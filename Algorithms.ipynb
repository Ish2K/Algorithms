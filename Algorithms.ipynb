{
 "cells": [
  {
   "cell_type": "markdown",
   "metadata": {},
   "source": [
    "# Binary Index Tree"
   ]
  },
  {
   "cell_type": "code",
   "execution_count": 9,
   "metadata": {},
   "outputs": [
    {
     "name": "stdout",
     "output_type": "stream",
     "text": [
      "1 0 0 0 0\n",
      "[0, 1, 1, 0, 1, 0]\n",
      "2\n",
      "Start : 1 \n",
      "End : 2\n",
      "1\n",
      "0\n"
     ]
    }
   ],
   "source": [
    "#Query1 for updating\n",
    "#Query2 for sum in range(l,r)\n",
    "\n",
    "def add(BIT,val,ind):\n",
    "    while(ind<len(BIT)):\n",
    "        BIT[ind] += val\n",
    "        ind+=(ind&(-ind))\n",
    "    return BIT\n",
    "def sum_r(BIT,ind):\n",
    "    ans = 0\n",
    "    while ind:\n",
    "        ans+=BIT[ind]\n",
    "        ind-=(ind&(-ind))\n",
    "    return ans\n",
    "\n",
    "l = list(map(int,input().split()))\n",
    "BIT = [0 for x in range(len(l)+1)]\n",
    "\n",
    "for x in range(len(l)):\n",
    "    BIT = add(BIT,l[x],x+1)\n",
    "print(BIT)\n",
    "\n",
    "while True:\n",
    "    n = input()\n",
    "    if(n=='0'):\n",
    "        break\n",
    "    elif(n=='1'):\n",
    "        val = int(input('Value : '))\n",
    "        pos = int(input('Position : '))\n",
    "        BIT = add(BIT,val,pos)\n",
    "        print(BIT)\n",
    "    else:\n",
    "        st = int(input(\"Start : \"))\n",
    "#         print(sum_r(BIT,st-1))\n",
    "        end = int(input(\"End : \"))\n",
    "#         print(sum_r(BIT,end))\n",
    "        print(sum_r(BIT,end)-sum_r(BIT,st-1))\n"
   ]
  },
  {
   "cell_type": "markdown",
   "metadata": {},
   "source": [
    "# Sparse Table"
   ]
  },
  {
   "cell_type": "code",
   "execution_count": 36,
   "metadata": {
    "scrolled": false
   },
   "outputs": [],
   "source": [
    "from math import log2\n",
    "l = list(map(int,input().split()))\n",
    "sp = [[] for x in range(int(log2(len(l)))+1)]\n",
    "n = len(l)\n",
    "\n",
    "for x in range(len(l)):\n",
    "    sp[0].append(x)\n",
    "\n",
    "j = 1\n",
    "while(2**j<=n):\n",
    "    i = 0\n",
    "    while(i<=(n-2**j)):\n",
    "        if(l[sp[j-1][i]]>l[sp[j - 1][i + (2**(j-1)) ]]):\n",
    "            sp[j].append(sp[j - 1][i + (2**(j-1))])\n",
    "        else:\n",
    "            sp[j].append(sp[j - 1][i])\n",
    "        i+=1\n",
    "    j+=1\n",
    "\n",
    "print(sp)\n",
    "q = int(input('Number of Queries : '))\n",
    "for x in range(q):\n",
    "    st = int(input('Start : '))\n",
    "    end = int(input('End : '))\n",
    "    elems = end - st + 1\n",
    "    st-=1\n",
    "    end-=1\n",
    "    k = int(log2(elems))\n",
    "    shift = elems - 2**k\n",
    "    ans = min(l[sp[k][st]],l[sp[k][st+shift]])\n",
    "    print(ans)"
   ]
  },
  {
   "cell_type": "markdown",
   "metadata": {},
   "source": [
    "# Euler Tour of a BinaryGraph"
   ]
  },
  {
   "cell_type": "code",
   "execution_count": 1,
   "metadata": {},
   "outputs": [
    {
     "name": "stdout",
     "output_type": "stream",
     "text": [
      "[5, 4, 2, 4, 3, 4, 5]\n"
     ]
    }
   ],
   "source": [
    "graph = {5:[4,None],4:[2,3],2:[None,None],3:[None,None]}\n",
    "l = []\n",
    "def traverse(root,graph):\n",
    "    l.append(root)\n",
    "    if(graph[root][0]):\n",
    "        traverse(graph[root][0],graph)\n",
    "        l.append(root)\n",
    "    if(graph[root][1]):\n",
    "        traverse(graph[root][1],graph)\n",
    "        l.append(root)\n",
    "traverse(5,graph)\n",
    "print(l)"
   ]
  },
  {
   "cell_type": "markdown",
   "metadata": {},
   "source": [
    "# Segment Tree For RMQ"
   ]
  },
  {
   "cell_type": "code",
   "execution_count": 7,
   "metadata": {},
   "outputs": [
    {
     "name": "stdout",
     "output_type": "stream",
     "text": [
      "1 5 -7 3 6 8\n",
      "[-7, -7, 3, 1, -7, 3, 8, 1, 5, 1000000007, 1000000007, 3, 6, 1000000007, 1000000007]\n",
      "Number of Queries : 3\n",
      "Start : 1\n",
      "End : 3\n",
      "-7\n",
      "Start : 4\n",
      "End : 6\n",
      "6\n",
      "Start : 3\n",
      "End : 6\n",
      "3\n"
     ]
    }
   ],
   "source": [
    "from math import log2,ceil\n",
    "l = list(map(int,input().split()))\n",
    "n = len(l)\n",
    "size_segment = (2**(ceil(log2(n))))*2 - 1\n",
    "max_int = 10**9 + 7\n",
    "\n",
    "segment_tree = [max_int for x in range(size_segment)]\n",
    "\n",
    "def construct(l,segment_tree,low,high,pos):\n",
    "    if(low==high):\n",
    "        segment_tree[pos] = l[low]\n",
    "        return;\n",
    "    mid = (low+high)//2\n",
    "    construct(l,segment_tree,low,mid,2*pos + 1)\n",
    "    construct(l,segment_tree,mid+1,high,2*pos + 2)\n",
    "    segment_tree[pos] = min(segment_tree[2*pos + 1],segment_tree[2*pos + 2])\n",
    "\n",
    "construct(l,segment_tree,low = 0,high = n-1 ,pos = 0)\n",
    "\n",
    "print(segment_tree)\n",
    "\n",
    "def RMQ(segment_tree,qlow,qhigh,low,high,pos):\n",
    "    if(qlow<=low and qhigh>=high):\n",
    "        return segment_tree[pos] # Total Overlap\n",
    "    if(qlow>high or qhigh<low):\n",
    "        return max_int #No overlap\n",
    "    mid = (low+high)//2\n",
    "    return min(RMQ(segment_tree,qlow,qhigh,low,mid,2*pos + 1),\n",
    "               RMQ(segment_tree,qlow,qhigh,mid+1,high,2*pos+2)) #Partial Overlap\n",
    "\n",
    "q = int(input('Number of Queries : '))\n",
    "for x in range(q):\n",
    "    st = int(input('Start : '))\n",
    "    en = int(input('End : '))\n",
    "    print(RMQ(segment_tree,st,en,0,n-1,0))"
   ]
  },
  {
   "cell_type": "markdown",
   "metadata": {},
   "source": [
    "# Segment Tree for Range sum"
   ]
  },
  {
   "cell_type": "code",
   "execution_count": 9,
   "metadata": {},
   "outputs": [
    {
     "name": "stdout",
     "output_type": "stream",
     "text": [
      "1 2 3 4 5\n",
      "[15, 6, 9, 3, 3, 4, 5, 1, 2, 0, 0, 0, 0, 0, 0]\n",
      "Choice : 1\n",
      "Start : 1\n",
      "End : 3\n",
      "6\n",
      "Choice : 2\n",
      "Value : 6\n",
      "Position : 3\n",
      "[18, 9, 9, 3, 6, 4, 5, 1, 2, 0, 0, 0, 0, 0, 0]\n",
      "Choice : 1\n",
      "Start : 3\n",
      "End : 4\n",
      "10\n",
      "Choice : 0\n"
     ]
    }
   ],
   "source": [
    "from math import ceil,log2\n",
    "l = list(map(int,input().split()))\n",
    "n = len(l)\n",
    "size_segment = 2**(ceil(log2(n)))*2 - 1\n",
    "segment_tree = [0 for x in range(size_segment)]\n",
    "\n",
    "def construct(segment,l,st,end,pos):\n",
    "    if(st==end):\n",
    "        segment[pos] = l[st]\n",
    "        return segment[pos];\n",
    "    mid = (st+end)//2\n",
    "    segment[pos] = construct(segment,l,st,mid,2*pos + 1) + construct(segment,l,mid+1,end,2*pos + 2)\n",
    "    return segment[pos]\n",
    "\n",
    "construct(segment_tree,l,0,n-1,0)\n",
    "\n",
    "print(segment_tree)\n",
    "\n",
    "def getsum(st,ss,se,qs,qe,pos):\n",
    "    if(qs<=ss and qe>=se):\n",
    "        return st[pos]\n",
    "    if(ss>qe or se<qs):\n",
    "        return 0\n",
    "    mid = (ss+se)//2\n",
    "    return(getsum(st,ss,mid,qs,qe,2*pos + 1) + getsum(st,mid+1,se,qs,qe,2*pos + 2))\n",
    "\n",
    "def update(st, ss, se, i, diff, si) :  \n",
    "    if (i < ss or i > se) : \n",
    "        return;  \n",
    "    st[si] = st[si] + diff;  \n",
    "      \n",
    "    if (se != ss) : \n",
    "      \n",
    "        mid = (se+ss)//2  \n",
    "        update(st, ss, mid, i,  \n",
    "                        diff, 2 * si + 1);  \n",
    "        update(st, mid + 1, se, i,  \n",
    "                         diff, 2 * si + 2);\n",
    "\n",
    "while True:\n",
    "    n = input(\"Choice : \")\n",
    "    if(n=='1'):\n",
    "        start = int(input(\"Start : \")) - 1\n",
    "        end = int(input('End : ')) - 1\n",
    "        print((getsum(segment_tree,0,len(l)-1,start,end,0)))\n",
    "    elif(n=='2'):\n",
    "        val = int(input('Value : '))\n",
    "        pos = int(input('Position : ')) - 1\n",
    "        diff = val - l[pos]\n",
    "        l[pos] = val\n",
    "        update(segment_tree,0,len(l)-1,pos,diff,0)\n",
    "        print(segment_tree)\n",
    "    else:\n",
    "        break"
   ]
  },
  {
   "cell_type": "markdown",
   "metadata": {},
   "source": [
    "# Lazy propogation"
   ]
  },
  {
   "cell_type": "code",
   "execution_count": 2,
   "metadata": {},
   "outputs": [
    {
     "name": "stdout",
     "output_type": "stream",
     "text": [
      "Sum of values in given range = 15\n",
      "Updated sum of values in given range = 45\n"
     ]
    }
   ],
   "source": [
    "MAX = 1000\n",
    "\n",
    "tree = [0] * MAX; # To store segment tree  \n",
    "lazy = [0] * MAX; # To store pending updates  \n",
    "\n",
    "def updateRangeUtil(si, ss, se, us, ue, diff) :  \n",
    "  \n",
    "    if (lazy[si] != 0) : \n",
    "  \n",
    "        tree[si] += (se - ss + 1) * lazy[si];  \n",
    " \n",
    "        if (ss != se) : \n",
    " \n",
    "            lazy[si * 2 + 1] += lazy[si];  \n",
    "            lazy[si * 2 + 2] += lazy[si];  \n",
    "           \n",
    "        lazy[si] = 0;  \n",
    "\n",
    "    if (ss > se or ss > ue or se < us) : \n",
    "        return ;  \n",
    "\n",
    "    if (ss >= us and se <= ue) : \n",
    "        tree[si] += (se - ss + 1) * diff;  \n",
    "\n",
    "        if (ss != se) : \n",
    "\n",
    "            lazy[si * 2 + 1] += diff;  \n",
    "            lazy[si * 2 + 2] += diff;  \n",
    "          \n",
    "        return;  \n",
    " \n",
    "    mid = (ss + se) // 2;  \n",
    "    updateRangeUtil(si * 2 + 1, ss, \n",
    "                    mid, us, ue, diff);  \n",
    "    updateRangeUtil(si * 2 + 2, mid + 1,  \n",
    "                    se, us, ue, diff);  \n",
    "\n",
    "    tree[si] = tree[si * 2 + 1] + tree[si * 2 + 2];  \n",
    "\n",
    "def updateRange(n, us, ue, diff) : \n",
    "    updateRangeUtil(0, 0, n - 1, us, ue, diff);  \n",
    "\n",
    "def getSumUtil(ss, se, qs, qe, si) :  \n",
    " \n",
    "    if (lazy[si] != 0) : \n",
    "        tree[si] += (se - ss + 1) * lazy[si];   \n",
    "        if (ss != se) : \n",
    "\n",
    "            lazy[si * 2 + 1] += lazy[si];  \n",
    "            lazy[si * 2 + 2] += lazy[si];  \n",
    "  \n",
    "        \n",
    "        lazy[si] = 0;  \n",
    "\n",
    "    if (ss > se or ss > qe or se < qs) : \n",
    "        return 0;  \n",
    "\n",
    "    if (ss >= qs and se <= qe) : \n",
    "        return tree[si];  \n",
    " \n",
    "    mid = (ss + se) // 2;  \n",
    "    return (getSumUtil(ss, mid, qs, qe, 2 * si + 1) +\n",
    "            getSumUtil(mid + 1, se, qs, qe, 2 * si + 2));  \n",
    "\n",
    "def getSum(n, qs, qe) : \n",
    " \n",
    "    if (qs < 0 or qe > n - 1 or qs > qe) : \n",
    "        print(\"Invalid Input\");  \n",
    "        return -1;  \n",
    "  \n",
    "    return getSumUtil(0, n - 1, qs, qe, 0);  \n",
    "  \n",
    "  \n",
    "def constructSTUtil(arr, ss, se, si) :  \n",
    " \n",
    "    if (ss > se) : \n",
    "        return ;  \n",
    "    if (ss == se) : \n",
    "      \n",
    "        tree[si] = arr[ss];  \n",
    "        return;  \n",
    "    mid = (ss + se) // 2;  \n",
    "    constructSTUtil(arr, ss, mid, si * 2 + 1);  \n",
    "    constructSTUtil(arr, mid + 1, se, si * 2 + 2);  \n",
    "  \n",
    "    tree[si] = tree[si * 2 + 1] + tree[si * 2 + 2];  \n",
    "  \n",
    "\n",
    "def constructST(arr, n):  \n",
    "\n",
    "    constructSTUtil(arr, 0, n - 1, 0);  \n",
    "\n",
    "if __name__ == \"__main__\" :  \n",
    "  \n",
    "    arr = [1, 3, 5, 7, 9, 11];  \n",
    "    n = len(arr);   \n",
    "    constructST(arr, n);  \n",
    "    print(\"Sum of values in given range =\", \n",
    "                          getSum(n, 1, 3));  \n",
    "    updateRange(n, 1, 5, 10);   \n",
    "    print(\"Updated sum of values in given range =\", \n",
    "                                 getSum( n, 1, 3));"
   ]
  },
  {
   "cell_type": "markdown",
   "metadata": {},
   "source": [
    "# Connected Components Using DFS"
   ]
  },
  {
   "cell_type": "code",
   "execution_count": 1,
   "metadata": {},
   "outputs": [
    {
     "name": "stdout",
     "output_type": "stream",
     "text": [
      "0 1 2 \n",
      "3 4 \n",
      "2\n"
     ]
    }
   ],
   "source": [
    "graph = {0:[[1],False],1:[[0,2],False],2:[[1],False],3:[[4],False],4:[[3],False]}\n",
    "l = []\n",
    "def dfs_util(x):\n",
    "    global graph\n",
    "    global l\n",
    "    graph[x][1] = True\n",
    "    print(x,end = \" \")\n",
    "    for i in graph[x][0]:\n",
    "        if(graph[i][-1]):\n",
    "            continue\n",
    "        else:\n",
    "            dfs_util(i)\n",
    "num = 0\n",
    "for x in graph:\n",
    "    if(graph[x][-1]):\n",
    "        continue\n",
    "    else:\n",
    "        num+=1\n",
    "        dfs_util(x)\n",
    "        print()\n",
    "print(num)"
   ]
  },
  {
   "cell_type": "markdown",
   "metadata": {},
   "source": [
    "# Transitive Closure"
   ]
  },
  {
   "cell_type": "code",
   "execution_count": 2,
   "metadata": {},
   "outputs": [
    {
     "data": {
      "text/plain": [
       "[[1, 1, 1, 1], [1, 1, 1, 1], [1, 1, 1, 1], [0, 0, 0, 1]]"
      ]
     },
     "execution_count": 2,
     "metadata": {},
     "output_type": "execute_result"
    }
   ],
   "source": [
    "Graph = [[0 for x in range(4)] for y in range(4)]\n",
    "g = {0:[1,2],1:[2],2:[0,3],3:[]}\n",
    "\n",
    "def dfs_util(s,v):\n",
    "    Graph[s][v] = 1\n",
    "    for i in g[v]:\n",
    "        if(Graph[s][i]):\n",
    "            continue\n",
    "        else:\n",
    "            dfs_util(s,i)\n",
    "for x in g:\n",
    "    dfs_util(x,x)\n",
    "    \n",
    "Graph"
   ]
  },
  {
   "cell_type": "markdown",
   "metadata": {},
   "source": [
    "# DFS Traversal"
   ]
  },
  {
   "cell_type": "code",
   "execution_count": 3,
   "metadata": {},
   "outputs": [
    {
     "name": "stdout",
     "output_type": "stream",
     "text": [
      "2 0 1 3 "
     ]
    }
   ],
   "source": [
    "d = {0:[[1,2],False],1:[[2],False],2:[[0,3],False],3:[[3],False]}\n",
    "def dfs_util(s):\n",
    "    d[s][-1] = True\n",
    "    print(s,end = \" \")\n",
    "    for i in d[s][0]:\n",
    "        if(d[i][-1]):\n",
    "            continue\n",
    "        else:\n",
    "            dfs_util(i)\n",
    "source = 2\n",
    "dfs_util(source)\n"
   ]
  },
  {
   "cell_type": "markdown",
   "metadata": {},
   "source": [
    "# BFS Traversal"
   ]
  },
  {
   "cell_type": "code",
   "execution_count": 5,
   "metadata": {},
   "outputs": [
    {
     "name": "stdout",
     "output_type": "stream",
     "text": [
      "2 0 3 1 "
     ]
    }
   ],
   "source": [
    "d = {0:[[1,2],False],1:[[2],False],2:[[0,3],False],3:[[3],False]}\n",
    "source = 2\n",
    "from queue import Queue\n",
    "q = Queue()\n",
    "q.put(source)\n",
    "\n",
    "while(q.empty()==False):\n",
    "    v = q.get()\n",
    "    d[v][-1] = True\n",
    "    print(v,end = \" \")\n",
    "    for i in d[v][0]:\n",
    "        if(d[i][-1]):\n",
    "            continue\n",
    "        else:\n",
    "            q.put(i)"
   ]
  },
  {
   "cell_type": "code",
   "execution_count": null,
   "metadata": {},
   "outputs": [],
   "source": []
  }
 ],
 "metadata": {
  "kernelspec": {
   "display_name": "Python 3",
   "language": "python",
   "name": "python3"
  },
  "language_info": {
   "codemirror_mode": {
    "name": "ipython",
    "version": 3
   },
   "file_extension": ".py",
   "mimetype": "text/x-python",
   "name": "python",
   "nbconvert_exporter": "python",
   "pygments_lexer": "ipython3",
   "version": "3.7.1"
  }
 },
 "nbformat": 4,
 "nbformat_minor": 2
}
